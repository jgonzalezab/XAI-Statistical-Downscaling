{
 "cells": [
  {
   "cell_type": "code",
   "execution_count": 1,
   "id": "1bb88d4a-3730-481f-a675-fd759e1fe0e8",
   "metadata": {},
   "outputs": [
    {
     "name": "stderr",
     "output_type": "stream",
     "text": [
      "Loading required package: rJava\n",
      "\n",
      "Loading required package: loadeR.java\n",
      "\n",
      "Java version 11x amd64 by Ubuntu detected\n",
      "\n",
      "NetCDF Java Library v4.6.0-SNAPSHOT (23 Apr 2015) loaded and ready\n",
      "\n",
      "Loading required package: climate4R.UDG\n",
      "\n",
      "climate4R.UDG version 0.2.4 (2022-06-15) is loaded\n",
      "\n",
      "Please use 'citation(\"climate4R.UDG\")' to cite this package.\n",
      "\n",
      "loadeR version 1.7.2 (2022-03-07) is loaded\n",
      "\n",
      "Please use 'citation(\"loadeR\")' to cite this package.\n",
      "\n"
     ]
    },
    {
     "name": "stdout",
     "output_type": "stream",
     "text": [
      "\n",
      "    _______   ____  ___________________  __  ________ \n",
      "   / ___/ /  / /  |/  / __  /_  __/ __/ / / / / __  / \n",
      "  / /  / /  / / /|_/ / /_/ / / / / __/ / /_/ / /_/_/  \n",
      " / /__/ /__/ / /  / / __  / / / / /__ /___  / / \\ \\ \n",
      " \\___/____/_/_/  /_/_/ /_/ /_/  \\___/    /_/\\/   \\_\\ \n",
      " \n",
      "      github.com/SantanderMetGroup/climate4R\n",
      "\n"
     ]
    },
    {
     "name": "stderr",
     "output_type": "stream",
     "text": [
      "transformeR version 2.1.5 (2022-05-12) is loaded\n",
      "\n",
      "WARNING: Your current version of transformeR (v2.1.5) is ahead of the master branch version (2.1.4)\n",
      "\n",
      "Development version may have an unexpected behaviour\n",
      "\n",
      "Please see 'citation(\"transformeR\")' to cite this package.\n",
      "\n",
      "downscaleR version 3.3.3 (2021-11-01) is loaded\n",
      "\n",
      "Please use 'citation(\"downscaleR\")' to cite this package.\n",
      "\n",
      "visualizeR version 1.6.1 (2021-03-11) is loaded\n",
      "\n",
      "Please see 'citation(\"visualizeR\")' to cite this package.\n",
      "\n",
      "Loading required package: VALUE\n",
      "\n",
      "---------------------------------------------- \n",
      "| VALUE version 2.2.2 (2021-08-18) is loaded |\n",
      "|         http://www.value-cost.eu           |\n",
      "----------------------------------------------\n",
      "\n"
     ]
    }
   ],
   "source": [
    "# Load libraries\n",
    "library(loadeR)\n",
    "source('./lib/downloadData.R')"
   ]
  },
  {
   "cell_type": "code",
   "execution_count": 2,
   "id": "7288f06d-244c-49cd-be2f-57eadac38a44",
   "metadata": {},
   "outputs": [],
   "source": [
    "# PATHS\n",
    "DATA_PATH <- './data/'"
   ]
  },
  {
   "cell_type": "code",
   "execution_count": 3,
   "id": "c5f21e27-83cf-48c7-872f-36e8e9fce064",
   "metadata": {},
   "outputs": [
    {
     "name": "stderr",
     "output_type": "stream",
     "text": [
      "[2022-09-07 09:24:35] Setting credentials...\n",
      "\n",
      "[2022-09-07 09:24:35] Success!\n",
      "Go to <https://data.meteo.unican.es/udg-tap/home> for details on your authorized groups and datasets\n",
      "\n"
     ]
    }
   ],
   "source": [
    "# Log into UDG\n",
    "loginUDG('***', '***')"
   ]
  },
  {
   "cell_type": "code",
   "execution_count": 4,
   "id": "0e18aad9-cb95-4157-b48d-691e9caa8728",
   "metadata": {},
   "outputs": [],
   "source": [
    "# Longitude and latitude values\n",
    "lon <- c(-165, -60)\n",
    "lat <- c(12, 70)"
   ]
  },
  {
   "cell_type": "code",
   "execution_count": 17,
   "id": "3f856259-cb9a-438b-877b-cddffc2cf0b2",
   "metadata": {},
   "outputs": [],
   "source": [
    "# Download and save reanalysis data (predictor)\n",
    "dataset <- 'ECMWF_ERA-Interim-ESD'\n",
    "\n",
    "vars <- c('z@500','z@700','z@850','z@1000', \n",
    "          'hus@500','hus@700','hus@850','hus@1000',\n",
    "          'ta@500','ta@700','ta@850','ta@1000',\n",
    "          'ua@500','ua@700','ua@850','ua@1000',\n",
    "          'va@500','va@700','va@850','va@1000')\n",
    "\n",
    "years <- 1979:2008\n",
    "\n",
    "download_X(dataset=dataset, vars=vars, lon=lon, lat=lat, years=years)"
   ]
  },
  {
   "cell_type": "code",
   "execution_count": null,
   "id": "79d1e6d8-277c-4ea4-8680-895168d7ee39",
   "metadata": {},
   "outputs": [],
   "source": [
    "# Download and save observation data (predictand)\n",
    "dataset <- 'PIK_Obs-EWEMBI'\n",
    "vars <- c('tas')\n",
    "years <- 1979:2008\n",
    "\n",
    "download_Y(dataset=dataset, vars=vars, lon=lon, lat=lat, years=years)"
   ]
  },
  {
   "cell_type": "code",
   "execution_count": 22,
   "id": "2385d18e-1651-4028-b9ed-c8616f749587",
   "metadata": {},
   "outputs": [],
   "source": [
    "# Download and save GCM predictors\n",
    "# It also interpolates GCM predictors to reanalysis resolution\n",
    "\n",
    "load(paste0(DATA_PATH, 'x.rda'))\n",
    "\n",
    "# Historical predictors\n",
    "dataset <- 'CMIP5-subset_EC-EARTH_r12i1p1_historical'\n",
    "\n",
    "vars <- c('z@500','z@700','z@850','z@1000', \n",
    "          'hus@500','hus@700','hus@850','hus@1000',\n",
    "          'ta@500','ta@700','ta@850','ta@1000',\n",
    "          'ua@500','ua@700','ua@850','ua@1000',\n",
    "          'va@500','va@700','va@850','va@1000')\n",
    "\n",
    "years <- 1979:2005\n",
    "\n",
    "download_GCM_predictors_historical(dataset=dataset, xRef=x, vars=vars, lon=lon, lat=lat, years=years)\n",
    "\n",
    "# Future predictors\n",
    "dataset <- 'CMIP5-subset_EC-EARTH_r12i1p1_rcp85'\n",
    "\n",
    "vars <- c('z@500','z@700','z@850','z@1000', \n",
    "          'hus@500','hus@700','hus@850','hus@1000',\n",
    "          'ta@500','ta@700','ta@850','ta@1000',\n",
    "          'ua@500','ua@700','ua@850','ua@1000',\n",
    "          'va@500','va@700','va@850','va@1000')\n",
    "\n",
    "years <- 2006:2100\n",
    "\n",
    "download_GCM_predictors_future(dataset=dataset, xRef=x, vars=vars, lon=lon, lat=lat, years=years)"
   ]
  },
  {
   "cell_type": "code",
   "execution_count": 5,
   "id": "90f485b6-56ab-41c6-9aed-b008025a2b8a",
   "metadata": {},
   "outputs": [
    {
     "name": "stdout",
     "output_type": "stream",
     "text": [
      "[1] \"Downloading variable tas of CMIP5-subset_EC-EARTH_r12i1p1_historical dataset\"\n"
     ]
    },
    {
     "name": "stderr",
     "output_type": "stream",
     "text": [
      "NOTE: Accessing harmonized data from a public UDG dataset\n",
      "\n",
      "[2022-09-07 09:24:52] Defining harmonization parameters for variable \"tas\"\n",
      "\n",
      "[2022-09-07 09:24:52] Opening dataset...\n",
      "\n",
      "[2022-09-07 09:24:53] The dataset was successfuly opened\n",
      "\n",
      "[2022-09-07 09:24:53] Defining geo-location parameters\n",
      "\n",
      "[2022-09-07 09:24:53] Defining time selection parameters\n",
      "\n",
      "[2022-09-07 09:24:54] Retrieving data subset ...\n",
      "\n",
      "[2022-09-07 09:24:59] Done\n",
      "\n",
      "[2022-09-07 09:25:00] Performing bilinear interpolation... may take a while\n",
      "\n",
      "[2022-09-07 09:25:20] Done\n",
      "\n"
     ]
    },
    {
     "name": "stdout",
     "output_type": "stream",
     "text": [
      "[1] \"Saving as rds in ./data/\"\n",
      "[1] \"Downloading variable tas of CMIP5-subset_EC-EARTH_r12i1p1_rcp85 dataset\"\n"
     ]
    },
    {
     "name": "stderr",
     "output_type": "stream",
     "text": [
      "NOTE: Accessing harmonized data from a public UDG dataset\n",
      "\n",
      "[2022-09-07 09:25:28] Defining harmonization parameters for variable \"tas\"\n",
      "\n",
      "[2022-09-07 09:37:13] Opening dataset...\n",
      "\n",
      "[2022-09-07 09:37:14] The dataset was successfuly opened\n",
      "\n",
      "[2022-09-07 09:37:14] Defining geo-location parameters\n",
      "\n",
      "[2022-09-07 09:37:14] Defining time selection parameters\n",
      "\n",
      "[2022-09-07 09:37:14] Retrieving data subset ...\n",
      "\n",
      "[2022-09-07 09:37:27] Done\n",
      "\n",
      "[2022-09-07 09:37:27] Performing bilinear interpolation... may take a while\n",
      "\n",
      "[2022-09-07 09:37:48] Done\n",
      "\n"
     ]
    },
    {
     "name": "stdout",
     "output_type": "stream",
     "text": [
      "[1] \"Saving as rds in ./data/\"\n"
     ]
    }
   ],
   "source": [
    "# Download and save GCM proyections\n",
    "# It also interpolates GCM proyections to observation resolution\n",
    "\n",
    "load(paste0(DATA_PATH, 'y.rda'))\n",
    "\n",
    "# Historical proyections\n",
    "dataset <- 'CMIP5-subset_EC-EARTH_r12i1p1_historical'\n",
    "\n",
    "vars <- c('tas')\n",
    "\n",
    "years <- 1979:2005\n",
    "\n",
    "download_GCM_proyections_historical(dataset=dataset, yRef=y, vars=vars, lon=lon, lat=lat, years=years)\n",
    "\n",
    "# Future proyections\n",
    "dataset <- 'CMIP5-subset_EC-EARTH_r12i1p1_rcp85'\n",
    "\n",
    "vars <- c('tas')\n",
    "\n",
    "years <- 2006:2100\n",
    "\n",
    "download_GCM_proyections_future(dataset=dataset, yRef=y, vars=vars, lon=lon, lat=lat, years=years)"
   ]
  },
  {
   "cell_type": "code",
   "execution_count": null,
   "id": "aae7443a-c8d6-4dee-8e5a-a484f3cc8543",
   "metadata": {},
   "outputs": [],
   "source": []
  }
 ],
 "metadata": {
  "kernelspec": {
   "display_name": "R",
   "language": "R",
   "name": "ir"
  },
  "language_info": {
   "codemirror_mode": "r",
   "file_extension": ".r",
   "mimetype": "text/x-r-source",
   "name": "R",
   "pygments_lexer": "r",
   "version": "3.6.3"
  }
 },
 "nbformat": 4,
 "nbformat_minor": 5
}
